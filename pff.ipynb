{
 "cells": [
  {
   "cell_type": "markdown",
   "id": "ef8985ce",
   "metadata": {},
   "source": [
    "%% [markdown]\n",
    "# PFF FC Tracking Data\n",
    "PFF FC released their broadcast tracking data from the FIFA Men's World Cup 2022. The datasets can be requested via [this link](https://www.blog.fc.pff.com/blog/pff-fc-release-2022-world-cup-data).\n",
    "##### Key Data Points:\n",
    "- Tracking Data: The tracking data is stored separately per game: `{game_id}.jsonl.bz2`\n",
    "- Event Data: The event data for all games is stored in a single file: `events.json`\n",
    "- Metadata: The metadata (home team, away team, date of the game, etc.) information. Each game's metadata is stored seperately as `{game_id}.json`.\n",
    "- Rosters:  The rosters contain information on the team sheets. Each game's roster is stored seperately as `{game_id}.json`.\n",
    "\n",
    "## Load local files\n",
    "To load the tracking data as a TrackingDataset use the `load_tracking()` function from the `pff` module.\n",
    "\n",
    "Required parameters are:\n",
    "- `meta_data`: Path containing metadata about the tracking data.\n",
    "- `players_meta_data`: Path containing roster metadata, such as player details.\n",
    "- `raw_data`: Path containing the raw tracking data.\n",
    "\n",
    "Optional parameters are:\n",
    "- `coordinates`: The coordinate system to use for the tracking data (e.g., \"pff\").\n",
    "- `sample_rate`: The sampling rate to downsample the data. If None, no downsampling is applied.\n",
    "- `limit`: The maximum number of records to process. If None, all records are processed.\n",
    "- `only_alive`: Whether to include only sequences when the ball is in play."
   ]
  },
  {
   "cell_type": "code",
   "execution_count": null,
   "id": "d204e3bd",
   "metadata": {},
   "outputs": [],
   "source": [
    "# %%\n",
    "from kloppy import pff"
   ]
  },
  {
   "cell_type": "code",
   "execution_count": null,
   "id": "83baa3cf",
   "metadata": {},
   "outputs": [],
   "source": [
    "dataset = pff.load_tracking(meta_data=\"data/pff_metadata_10517.json\",\n",
    "                     roster_meta_data=\"data/pff_rosters_10517.json\",\n",
    "                     raw_data=\"data/pff_10517.jsonl.bz2\",\n",
    "                     # Optional Parameters\n",
    "                     coordinates=\"pff\",\n",
    "                     sample_rate=None,\n",
    "                     limit=None)"
   ]
  },
  {
   "cell_type": "code",
   "execution_count": null,
   "id": "c2d771bd",
   "metadata": {},
   "outputs": [],
   "source": [
    "dataset.to_df().head() "
   ]
  }
 ],
 "metadata": {
  "kernelspec": {
   "display_name": "Python 3",
   "language": "python",
   "name": "python3"
  }
 },
 "nbformat": 4,
 "nbformat_minor": 5
}
